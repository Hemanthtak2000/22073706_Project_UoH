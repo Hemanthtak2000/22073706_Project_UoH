{
  "nbformat": 4,
  "nbformat_minor": 0,
  "metadata": {
    "colab": {
      "provenance": [],
      "authorship_tag": "ABX9TyNMzGV14JEGa2e4K1ylqEy3",
      "include_colab_link": true
    },
    "kernelspec": {
      "name": "python3",
      "display_name": "Python 3"
    },
    "language_info": {
      "name": "python"
    }
  },
  "cells": [
    {
      "cell_type": "markdown",
      "metadata": {
        "id": "view-in-github",
        "colab_type": "text"
      },
      "source": [
        "<a href=\"https://colab.research.google.com/github/Hemanthtak2000/22073706_Project_UoH/blob/main/22073706_Code.ipynb\" target=\"_parent\"><img src=\"https://colab.research.google.com/assets/colab-badge.svg\" alt=\"Open In Colab\"/></a>"
      ]
    },
    {
      "cell_type": "code",
      "execution_count": null,
      "metadata": {
        "id": "9-3mpo3nx8Hd",
        "colab": {
          "base_uri": "https://localhost:8080/"
        },
        "outputId": "5b0a7fdd-fdfc-4f41-cbf4-2fab9f9049c5"
      },
      "outputs": [
        {
          "output_type": "stream",
          "name": "stdout",
          "text": [
            "Mounted at /content/drive\n"
          ]
        }
      ],
      "source": [
        "from google.colab import drive\n",
        "drive.mount('/content/drive')"
      ]
    },
    {
      "cell_type": "code",
      "source": [
        "import pandas as pd\n",
        "Ins_Details_path = '/content/drive/My Drive/aug_train.csv'\n",
        "Ins_Details = pd.read_csv(Ins_Details_path)\n",
        "print(Ins_Details.head())"
      ],
      "metadata": {
        "colab": {
          "base_uri": "https://localhost:8080/"
        },
        "id": "VF_yuBI-zOGR",
        "outputId": "9a6f8f97-bce2-49d2-98f8-d2f52b3ab0b1"
      },
      "execution_count": null,
      "outputs": [
        {
          "output_type": "stream",
          "name": "stdout",
          "text": [
            "       id  Gender  Age  Driving_License  Region_Code  Previously_Insured  \\\n",
            "0  167647    Male   22                1          7.0                   1   \n",
            "1   17163    Male   42                1         28.0                   0   \n",
            "2   32023  Female   66                1         33.0                   0   \n",
            "3   87447  Female   22                1         33.0                   0   \n",
            "4  501933    Male   28                1         46.0                   1   \n",
            "\n",
            "  Vehicle_Age Vehicle_Damage  Annual_Premium  Policy_Sales_Channel  Vintage  \\\n",
            "0    < 1 Year             No          2630.0                 152.0       16   \n",
            "1    1-2 Year            Yes         43327.0                  26.0      135   \n",
            "2    1-2 Year            Yes         35841.0                 124.0      253   \n",
            "3    < 1 Year             No         27645.0                 152.0       69   \n",
            "4    < 1 Year             No         29023.0                 152.0      211   \n",
            "\n",
            "   Response  \n",
            "0         0  \n",
            "1         0  \n",
            "2         0  \n",
            "3         0  \n",
            "4         0  \n"
          ]
        }
      ]
    },
    {
      "cell_type": "code",
      "source": [
        "Ins_Details.isna().sum()"
      ],
      "metadata": {
        "colab": {
          "base_uri": "https://localhost:8080/",
          "height": 460
        },
        "id": "6xrLOSYNz4-X",
        "outputId": "3077fb98-2268-48e9-d611-4f48f599d3dc"
      },
      "execution_count": null,
      "outputs": [
        {
          "output_type": "execute_result",
          "data": {
            "text/plain": [
              "id                      0\n",
              "Gender                  0\n",
              "Age                     0\n",
              "Driving_License         0\n",
              "Region_Code             0\n",
              "Previously_Insured      0\n",
              "Vehicle_Age             0\n",
              "Vehicle_Damage          0\n",
              "Annual_Premium          0\n",
              "Policy_Sales_Channel    0\n",
              "Vintage                 0\n",
              "Response                0\n",
              "dtype: int64"
            ],
            "text/html": [
              "<div>\n",
              "<style scoped>\n",
              "    .dataframe tbody tr th:only-of-type {\n",
              "        vertical-align: middle;\n",
              "    }\n",
              "\n",
              "    .dataframe tbody tr th {\n",
              "        vertical-align: top;\n",
              "    }\n",
              "\n",
              "    .dataframe thead th {\n",
              "        text-align: right;\n",
              "    }\n",
              "</style>\n",
              "<table border=\"1\" class=\"dataframe\">\n",
              "  <thead>\n",
              "    <tr style=\"text-align: right;\">\n",
              "      <th></th>\n",
              "      <th>0</th>\n",
              "    </tr>\n",
              "  </thead>\n",
              "  <tbody>\n",
              "    <tr>\n",
              "      <th>id</th>\n",
              "      <td>0</td>\n",
              "    </tr>\n",
              "    <tr>\n",
              "      <th>Gender</th>\n",
              "      <td>0</td>\n",
              "    </tr>\n",
              "    <tr>\n",
              "      <th>Age</th>\n",
              "      <td>0</td>\n",
              "    </tr>\n",
              "    <tr>\n",
              "      <th>Driving_License</th>\n",
              "      <td>0</td>\n",
              "    </tr>\n",
              "    <tr>\n",
              "      <th>Region_Code</th>\n",
              "      <td>0</td>\n",
              "    </tr>\n",
              "    <tr>\n",
              "      <th>Previously_Insured</th>\n",
              "      <td>0</td>\n",
              "    </tr>\n",
              "    <tr>\n",
              "      <th>Vehicle_Age</th>\n",
              "      <td>0</td>\n",
              "    </tr>\n",
              "    <tr>\n",
              "      <th>Vehicle_Damage</th>\n",
              "      <td>0</td>\n",
              "    </tr>\n",
              "    <tr>\n",
              "      <th>Annual_Premium</th>\n",
              "      <td>0</td>\n",
              "    </tr>\n",
              "    <tr>\n",
              "      <th>Policy_Sales_Channel</th>\n",
              "      <td>0</td>\n",
              "    </tr>\n",
              "    <tr>\n",
              "      <th>Vintage</th>\n",
              "      <td>0</td>\n",
              "    </tr>\n",
              "    <tr>\n",
              "      <th>Response</th>\n",
              "      <td>0</td>\n",
              "    </tr>\n",
              "  </tbody>\n",
              "</table>\n",
              "</div><br><label><b>dtype:</b> int64</label>"
            ]
          },
          "metadata": {},
          "execution_count": 15
        }
      ]
    },
    {
      "cell_type": "code",
      "source": [
        "Ins_Details.info()"
      ],
      "metadata": {
        "colab": {
          "base_uri": "https://localhost:8080/"
        },
        "id": "ukz1Tc6Xz6lO",
        "outputId": "eb1ec01e-b8e5-4699-9a9d-8cfdecb181e6"
      },
      "execution_count": null,
      "outputs": [
        {
          "output_type": "stream",
          "name": "stdout",
          "text": [
            "<class 'pandas.core.frame.DataFrame'>\n",
            "RangeIndex: 382154 entries, 0 to 382153\n",
            "Data columns (total 12 columns):\n",
            " #   Column                Non-Null Count   Dtype  \n",
            "---  ------                --------------   -----  \n",
            " 0   id                    382154 non-null  int64  \n",
            " 1   Gender                382154 non-null  object \n",
            " 2   Age                   382154 non-null  int64  \n",
            " 3   Driving_License       382154 non-null  int64  \n",
            " 4   Region_Code           382154 non-null  float64\n",
            " 5   Previously_Insured    382154 non-null  int64  \n",
            " 6   Vehicle_Age           382154 non-null  object \n",
            " 7   Vehicle_Damage        382154 non-null  object \n",
            " 8   Annual_Premium        382154 non-null  float64\n",
            " 9   Policy_Sales_Channel  382154 non-null  float64\n",
            " 10  Vintage               382154 non-null  int64  \n",
            " 11  Response              382154 non-null  int64  \n",
            "dtypes: float64(3), int64(6), object(3)\n",
            "memory usage: 35.0+ MB\n"
          ]
        }
      ]
    },
    {
      "cell_type": "code",
      "source": [
        "Ins_Details['Gender'] = Ins_Details['Gender'].astype('category')\n",
        "Ins_Details['Vehicle_Age'] = Ins_Details['Vehicle_Age'].astype('category')\n",
        "Ins_Details['Vehicle_Damage'] = Ins_Details['Vehicle_Damage'].astype('category')"
      ],
      "metadata": {
        "id": "AZRVhHYYz_zX"
      },
      "execution_count": null,
      "outputs": []
    },
    {
      "cell_type": "code",
      "source": [
        "Ins_Details.info()"
      ],
      "metadata": {
        "colab": {
          "base_uri": "https://localhost:8080/"
        },
        "id": "vH2pcohp1Bq5",
        "outputId": "a271cc31-24cc-45aa-891c-b622c1b4c02c"
      },
      "execution_count": null,
      "outputs": [
        {
          "output_type": "stream",
          "name": "stdout",
          "text": [
            "<class 'pandas.core.frame.DataFrame'>\n",
            "RangeIndex: 382154 entries, 0 to 382153\n",
            "Data columns (total 12 columns):\n",
            " #   Column                Non-Null Count   Dtype   \n",
            "---  ------                --------------   -----   \n",
            " 0   id                    382154 non-null  int64   \n",
            " 1   Gender                382154 non-null  category\n",
            " 2   Age                   382154 non-null  int64   \n",
            " 3   Driving_License       382154 non-null  int64   \n",
            " 4   Region_Code           382154 non-null  float64 \n",
            " 5   Previously_Insured    382154 non-null  int64   \n",
            " 6   Vehicle_Age           382154 non-null  category\n",
            " 7   Vehicle_Damage        382154 non-null  category\n",
            " 8   Annual_Premium        382154 non-null  float64 \n",
            " 9   Policy_Sales_Channel  382154 non-null  float64 \n",
            " 10  Vintage               382154 non-null  int64   \n",
            " 11  Response              382154 non-null  int64   \n",
            "dtypes: category(3), float64(3), int64(6)\n",
            "memory usage: 27.3 MB\n"
          ]
        }
      ]
    },
    {
      "cell_type": "code",
      "source": [
        "# Check for duplicates\n",
        "Dup_Ins_Dtls = Ins_Details.duplicated()\n",
        "\n",
        "# Display the number of duplicate rows\n",
        "Total_Ins_Dup = Dup_Ins_Dtls.sum()\n",
        "print(f'Number of duplicate rows: {Total_Ins_Dup}')"
      ],
      "metadata": {
        "colab": {
          "base_uri": "https://localhost:8080/"
        },
        "id": "uo6A8J2L1Pa0",
        "outputId": "51397d12-3b87-4816-bad4-8ddbb3f27d13"
      },
      "execution_count": null,
      "outputs": [
        {
          "output_type": "stream",
          "name": "stdout",
          "text": [
            "Number of duplicate rows: 0\n"
          ]
        }
      ]
    },
    {
      "cell_type": "code",
      "source": [
        "Ins_Details_PP = pd.get_dummies(Ins_Details, columns=['Gender', 'Vehicle_Age', 'Vehicle_Damage'], drop_first=True)\n",
        "print(Ins_Details_PP.head())"
      ],
      "metadata": {
        "colab": {
          "base_uri": "https://localhost:8080/"
        },
        "id": "SFIDoFgq3ZZO",
        "outputId": "cece36f1-cc4c-4c73-8ad8-f470448c84b1"
      },
      "execution_count": null,
      "outputs": [
        {
          "output_type": "stream",
          "name": "stdout",
          "text": [
            "       id  Age  Driving_License  Region_Code  Previously_Insured  \\\n",
            "0  167647   22                1          7.0                   1   \n",
            "1   17163   42                1         28.0                   0   \n",
            "2   32023   66                1         33.0                   0   \n",
            "3   87447   22                1         33.0                   0   \n",
            "4  501933   28                1         46.0                   1   \n",
            "\n",
            "   Annual_Premium  Policy_Sales_Channel  Vintage  Response  Gender_Male  \\\n",
            "0          2630.0                 152.0       16         0         True   \n",
            "1         43327.0                  26.0      135         0         True   \n",
            "2         35841.0                 124.0      253         0        False   \n",
            "3         27645.0                 152.0       69         0        False   \n",
            "4         29023.0                 152.0      211         0         True   \n",
            "\n",
            "   Vehicle_Age_< 1 Year  Vehicle_Age_> 2 Years  Vehicle_Damage_Yes  \n",
            "0                  True                  False               False  \n",
            "1                 False                  False                True  \n",
            "2                 False                  False                True  \n",
            "3                  True                  False               False  \n",
            "4                  True                  False               False  \n"
          ]
        }
      ]
    },
    {
      "cell_type": "code",
      "source": [
        "def detect_outliers_iqr(data, column):\n",
        "    Q1 = data[column].quantile(0.25)\n",
        "    Q3 = data[column].quantile(0.75)\n",
        "    IQR = Q3 - Q1\n",
        "    lower_bound = Q1 - 1.5 * IQR\n",
        "    upper_bound = Q3 + 1.5 * IQR\n",
        "    outliers = data[(data[column] < lower_bound) | (data[column] > upper_bound)]\n",
        "    return outliers\n",
        "\n",
        "# Check for outliers in the 'Annual_Premium' column\n",
        "Out_Det_Ann_Pre = detect_outliers_iqr(Ins_Details_PP, 'Annual_Premium')\n",
        "\n",
        "# Display the number of outliers and the outlier rows\n",
        "Count_Outliers = Out_Det_Ann_Pre.shape[0]\n",
        "print(f'Number of outliers in Annual_Premium: {Count_Outliers}')\n",
        "print(Out_Det_Ann_Pre)\n"
      ],
      "metadata": {
        "colab": {
          "base_uri": "https://localhost:8080/"
        },
        "id": "ZPX1I0pg4da3",
        "outputId": "e15d01c8-c0cd-4afe-c2ba-f3f00b81604f"
      },
      "execution_count": null,
      "outputs": [
        {
          "output_type": "stream",
          "name": "stdout",
          "text": [
            "Number of outliers in Annual_Premium: 10407\n",
            "            id  Age  Driving_License  Region_Code  Previously_Insured  \\\n",
            "10       31460   25                1          8.0                   1   \n",
            "45      373877   58                1         28.0                   0   \n",
            "49      303609   22                1          8.0                   0   \n",
            "50       54431   48                1         28.0                   0   \n",
            "101     395073   65                1         28.0                   1   \n",
            "...        ...  ...              ...          ...                 ...   \n",
            "382075  461373   47                1         28.0                   0   \n",
            "382089  241754   66                1         28.0                   0   \n",
            "382106  143075   46                1          8.0                   0   \n",
            "382120  201301   48                1          8.0                   1   \n",
            "382150  247064   27                1         28.0                   1   \n",
            "\n",
            "        Annual_Premium  Policy_Sales_Channel  Vintage  Response  Gender_Male  \\\n",
            "10             63623.0                 152.0       73         0         True   \n",
            "45             66455.0                 124.0      161         0        False   \n",
            "49             65167.0                 152.0       14         0         True   \n",
            "50             75958.0                  26.0      275         0        False   \n",
            "101            65139.0                 124.0      158         0        False   \n",
            "...                ...                   ...      ...       ...          ...   \n",
            "382075         83683.0                  26.0       39         1         True   \n",
            "382089         69955.0                  26.0       44         0        False   \n",
            "382106         68063.0                  26.0      100         1        False   \n",
            "382120         67176.0                  26.0      286         0        False   \n",
            "382150        336395.0                 152.0      144         0         True   \n",
            "\n",
            "        Vehicle_Age_< 1 Year  Vehicle_Age_> 2 Years  Vehicle_Damage_Yes  \n",
            "10                      True                  False               False  \n",
            "45                     False                  False                True  \n",
            "49                      True                  False               False  \n",
            "50                     False                  False               False  \n",
            "101                    False                  False               False  \n",
            "...                      ...                    ...                 ...  \n",
            "382075                 False                  False                True  \n",
            "382089                 False                   True                True  \n",
            "382106                 False                  False                True  \n",
            "382120                 False                  False               False  \n",
            "382150                  True                  False               False  \n",
            "\n",
            "[10407 rows x 13 columns]\n"
          ]
        }
      ]
    },
    {
      "cell_type": "code",
      "source": [
        "import matplotlib.pyplot as plt\n",
        "import seaborn as sns\n",
        "\n",
        "plt.figure(figsize=(12, 6))\n",
        "sns.boxplot(x=Ins_Details_PP['Annual_Premium'])\n",
        "plt.title('Outliers Box Plot of Annual_Premium')\n",
        "plt.tight_layout()\n",
        "plt.show()\n"
      ],
      "metadata": {
        "colab": {
          "base_uri": "https://localhost:8080/",
          "height": 607
        },
        "id": "Pd7TmyM86m-m",
        "outputId": "8c551ba7-c2e2-4b01-ab3d-29431044b194"
      },
      "execution_count": null,
      "outputs": [
        {
          "output_type": "display_data",
          "data": {
            "text/plain": [
              "<Figure size 1200x600 with 1 Axes>"
            ],
            "image/png": "[encoded data removed]"
          },
          "metadata": {}
        }
      ]
    },
    {
      "cell_type": "code",
      "source": [
        "# Calculate the IQR bounds\n",
        "Q1 = Ins_Details_PP['Annual_Premium'].quantile(0.25)\n",
        "Q3 = Ins_Details_PP['Annual_Premium'].quantile(0.75)\n",
        "IQR = Q3 - Q1\n",
        "lower_bound = Q1 - 1.5 * IQR\n",
        "upper_bound = Q3 + 1.5 * IQR\n",
        "\n",
        "# Filter the DataFrame to keep only values within the bounds\n",
        "Ins_Details_PP_OL = Ins_Details_PP[(Ins_Details_PP['Annual_Premium'] >= lower_bound) & (Ins_Details_PP['Annual_Premium'] <= upper_bound)]\n",
        "\n",
        "# Display the new DataFrame shape after outlier removal\n",
        "print(f'Original DataFrame shape: {Ins_Details_PP.shape}')\n",
        "print(f'DataFrame shape after outlier removal: {Ins_Details_PP_OL.shape}')\n"
      ],
      "metadata": {
        "colab": {
          "base_uri": "https://localhost:8080/"
        },
        "id": "aSup1FlY8OA9",
        "outputId": "e1b46294-3eee-4726-bc9d-21d231b82831"
      },
      "execution_count": null,
      "outputs": [
        {
          "output_type": "stream",
          "name": "stdout",
          "text": [
            "Original DataFrame shape: (382154, 13)\n",
            "DataFrame shape after outlier removal: (371747, 13)\n"
          ]
        }
      ]
    }
  ]
}